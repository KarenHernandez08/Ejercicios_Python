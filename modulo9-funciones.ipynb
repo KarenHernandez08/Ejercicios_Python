{
 "cells": [
  {
   "cell_type": "markdown",
   "metadata": {},
   "source": [
    "# Uso de funciones en Python\n",
    "\n",
    "## Ejercicio 1: Trabajar con argumentos en funciones\n",
    "Los argumentos requeridos en las funciones se utilizan cuando las funciones necesitan que esos argumentos funcionen correctamente. En este ejercicio, construirás un informe de combustible que requiere información de varias ubicaciones de combustible en todo el cohete."
   ]
  },
  {
   "cell_type": "markdown",
   "metadata": {},
   "source": [
    "Comienza por crear una función que necesite tres lecturas de combustible y devuelva un informe:\n",
    "\n"
   ]
  },
  {
   "cell_type": "code",
   "execution_count": 10,
   "metadata": {},
   "outputs": [],
   "source": [
    "# Función para leer 3 tanques de combustible y muestre el promedio\n",
    "def reporte(gasolina, tanque_externo,tanque_hidrogeno):\n",
    "    promedio = (gasolina + tanque_externo + tanque_hidrogeno) / 3\n",
    "    return f\"\"\"Informe de Combustible:\n",
    "    promedio: {promedio}%\n",
    "    Tanque de combustible: {gasolina}%\n",
    "    Tanque externo: {tanque_externo}%\n",
    "    Tanque de hidrogeno: {tanque_hidrogeno}% \n",
    "    \"\"\""
   ]
  },
  {
   "cell_type": "markdown",
   "metadata": {},
   "source": [
    "Ahora que hemos definido la función de informes, vamos a comprobarlo. Para esta misión, los tanques no están llenos:\n",
    "\n"
   ]
  },
  {
   "cell_type": "code",
   "execution_count": 15,
   "metadata": {},
   "outputs": [
    {
     "name": "stdout",
     "output_type": "stream",
     "text": [
      "Informe de Combustible:\n",
      "    promedio: 68.33333333333333%\n",
      "    Tanque de combustible: 50%\n",
      "    Tanque externo: 70%\n",
      "    Tanque de hidrogeno: 85% \n",
      "    \n"
     ]
    }
   ],
   "source": [
    "# Llamamos a la función que genera el reporte print(funcion(tanque1, tanque2, tanque3))\n",
    "print(reporte(50, 70, 85))"
   ]
  },
  {
   "cell_type": "markdown",
   "metadata": {},
   "source": [
    "En lugar de simplemente crear el informe, la función también está calculando el promedio. Mejora la legibilidad extrayendo el cálculo promedio de la función en una nueva función para que el promedio se pueda hacer de forma independiente:\n",
    "\n"
   ]
  },
  {
   "cell_type": "code",
   "execution_count": 14,
   "metadata": {},
   "outputs": [
    {
     "data": {
      "text/plain": [
       "68.33333333333333"
      ]
     },
     "execution_count": 14,
     "metadata": {},
     "output_type": "execute_result"
    }
   ],
   "source": [
    "# Función promedio \n",
    "def promedio(valores):\n",
    "    total = sum(valores)\n",
    "    detalle = len(valores)\n",
    "    return total / detalle\n",
    "    \n",
    "promedio([50, 70, 85]) \n"
   ]
  },
  {
   "cell_type": "markdown",
   "metadata": {},
   "source": [
    "Ahora actualiza la función de informes para llamando a la nueva función del promedio:\n",
    "\n"
   ]
  },
  {
   "cell_type": "code",
   "execution_count": 19,
   "metadata": {},
   "outputs": [
    {
     "name": "stdout",
     "output_type": "stream",
     "text": [
      "Informe de Combustible:\n",
      "   \n",
      "    promedio: 68.33333333333333%\n",
      "    Tanque de combustible: 50%\n",
      "    Tanque externo: 70%\n",
      "    Tanque de hidrogeno: 85% \n",
      "        \n"
     ]
    }
   ],
   "source": [
    "# Actualiza la función\n",
    "def reporte(gasolina, tanque_externo,tanque_hidrogeno):\n",
    "     promedio = (gasolina + tanque_externo + tanque_hidrogeno) / 3\n",
    "     return f\"\"\"Informe de Combustible:\n",
    "    promedio: {promedio}%\n",
    "    Tanque de combustible: {gasolina}%\n",
    "    Tanque externo: {tanque_externo}%\n",
    "    Tanque de hidrogeno: {tanque_hidrogeno}% \n",
    "        \"\"\"\n",
    "print(reporte(50, 70, 85))"
   ]
  },
  {
   "cell_type": "markdown",
   "metadata": {},
   "source": [
    "## Ejercicio 2: Trabajo con argumentos de palabra clave\n",
    "### Ejercicio : Trabajar con argumentos de palabras clave en funciones\n",
    "En este ejercicio, construirás un informe de cohete que requiere varias piezas de información, como el tiempo hasta el destino, el combustible a la izquierda y el nombre del destino. Comienza por crear una función que creará un informe preciso de la misión:"
   ]
  },
  {
   "cell_type": "code",
   "execution_count": 25,
   "metadata": {},
   "outputs": [
    {
     "name": "stdout",
     "output_type": "stream",
     "text": [
      "\n",
      "    La misión es Jupiter\n",
      "    Tiempo total al destino: 142 minutos\n",
      "    Combustible 500000  litros de gasolina\n",
      "    \n"
     ]
    }
   ],
   "source": [
    "# Función con un informe preciso de la misión. Considera hora de prelanzamiento, tiempo de vuelo, destino, tanque externo y tanque interno\n",
    "def mision(tiempo, tiempo_estimado, destino, tanque_externo, combustible):\n",
    "    return f\"\"\"\n",
    "    La misión es {destino}\n",
    "    Tiempo total al destino: {tiempo + tiempo_estimado} minutos\n",
    "    Combustible {tanque_externo + combustible}  litros de gasolina\n",
    "    \"\"\"\n",
    "\n",
    "print(mision(56, 86, \"Jupiter\", 200000, 300000))\n"
   ]
  },
  {
   "cell_type": "markdown",
   "metadata": {},
   "source": [
    "La función es problemática porque no se puede adaptar para minutos adicionales o tanques adicionales de combustible. Hazlo más flexible permitiendo cualquier número de pasos basados en el tiempo y cualquier número de tanques. En lugar de usar *args y **kwargs, aprovecha el hecho de que puedes usar cualquier nombre que desees. Asegurate que la función sea más legible mediante el uso de nombres de variables que están asociados con las entradas, como *minutes y **fuel_reservoirs:\n",
    "\n"
   ]
  },
  {
   "cell_type": "code",
   "execution_count": 29,
   "metadata": {},
   "outputs": [
    {
     "name": "stdout",
     "output_type": "stream",
     "text": [
      "\n",
      "    La misión es Jupiter\n",
      "    TTiempo total al destino: 76 minutos\n",
      "    Combustible 500000 litros de gasolina\n",
      "    \n"
     ]
    }
   ],
   "source": [
    "# Escribe tu nueva función de reporte considerando lo anterior\n",
    "\n",
    "def mision(destino, *minutes, **fuel_reservoirs):\n",
    "    return f\"\"\"\n",
    "    La misión es: {destino}\n",
    "    Tiempo total al destino: {sum(minutes)} minutos\n",
    "    Combustible: {sum(fuel_reservoirs.values())} litros de gasolina\n",
    "    \"\"\"\n",
    "\n",
    "  \n",
    "print(mision(\"Jupiter\", 10, 15, 51, interno=300000, externo=200000))\n"
   ]
  },
  {
   "cell_type": "markdown",
   "metadata": {},
   "source": [
    "Debido a que el combustible que queda en los tanques es específico de cada tanque, actualiza la función para usar el nombre de cada tanque en el informe:\n"
   ]
  },
  {
   "cell_type": "code",
   "execution_count": 1,
   "metadata": {},
   "outputs": [
    {
     "name": "stdout",
     "output_type": "stream",
     "text": [
      "\n",
      "    La misión es: Jupiter\n",
      "    Tiempo total al destino: 76 minutos\n",
      "    Combustible: 500000 litros de gasolina\n",
      "    tanque interno 300000  litros de gasolina\n",
      "tanque externo 200000  litros de gasolina\n",
      "\n"
     ]
    }
   ],
   "source": [
    "# Escribe tu nueva función\n",
    "\n",
    "def mision(destino, *minutes, **fuel_reservoirs):\n",
    "    reporte = f\"\"\"\n",
    "    La misión es: {destino}\n",
    "    Tiempo total al destino: {sum(minutes)} minutos\n",
    "    Combustible: {sum(fuel_reservoirs.values())} litros de gasolina\n",
    "    \"\"\"\n",
    "    \n",
    "    for tanque, gasolina in fuel_reservoirs.items():\n",
    "        reporte += f\"tanque {tanque} {gasolina}  litros de gasolina\\n\"\n",
    "    return reporte\n",
    "\n",
    "print(mision(\"Jupiter\", 10, 15, 51, interno=300000,externo=200000))\n",
    "\n"
   ]
  }
 ],
 "metadata": {
  "interpreter": {
   "hash": "390fd7e4b6cad2ce8cef079eff5b9347a37acbc45e0ffef695e316a2feeb1d0c"
  },
  "kernelspec": {
   "display_name": "Python 3.9.10 64-bit",
   "language": "python",
   "name": "python3"
  },
  "language_info": {
   "codemirror_mode": {
    "name": "ipython",
    "version": 3
   },
   "file_extension": ".py",
   "mimetype": "text/x-python",
   "name": "python",
   "nbconvert_exporter": "python",
   "pygments_lexer": "ipython3",
   "version": "3.9.10"
  },
  "orig_nbformat": 4
 },
 "nbformat": 4,
 "nbformat_minor": 2
}
