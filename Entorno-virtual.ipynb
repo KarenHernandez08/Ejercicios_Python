{
 "cells": [
  {
   "cell_type": "markdown",
   "metadata": {},
   "source": [
    "# CREAR UN ENTORNO VIRTUAL "
   ]
  },
  {
   "cell_type": "markdown",
   "metadata": {},
   "source": [
    "Ir al directorio donde se desea guardar el proyecto `cd /Users/Karen Jocelyn/Downloads/Ejercicios_Python`"
   ]
  },
  {
   "cell_type": "markdown",
   "metadata": {},
   "source": [
    "![alt text][carpeta]"
   ]
  }
 ],
 "metadata": {
  "interpreter": {
   "hash": "390fd7e4b6cad2ce8cef079eff5b9347a37acbc45e0ffef695e316a2feeb1d0c"
  },
  "kernelspec": {
   "display_name": "Python 3.9.10 64-bit",
   "language": "python",
   "name": "python3"
  },
  "language_info": {
   "name": "python",
   "version": "3.9.10"
  },
  "orig_nbformat": 4
 },
 "nbformat": 4,
 "nbformat_minor": 2
}
