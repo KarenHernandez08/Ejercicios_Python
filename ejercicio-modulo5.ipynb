{
 "cells": [
  {
   "cell_type": "markdown",
   "metadata": {},
   "source": [
    "# OPERADORES ARITMÉTICOS"
   ]
  },
  {
   "cell_type": "markdown",
   "metadata": {},
   "source": [
    "Ejercicio1 - Utilizar operadores aritméticos"
   ]
  },
  {
   "cell_type": "markdown",
   "metadata": {},
   "source": [
    "Exploremos cómo podemos crear un programa que pueda calcular la distancia entre dos planetas. Comenzaremos usando dos distancias de planetas: Tierra (149.597.870 km) y Júpiter (778.547.200 km)."
   ]
  },
  {
   "cell_type": "code",
   "execution_count": null,
   "metadata": {},
   "outputs": [],
   "source": [
    "# Crear variables para almacenar las dos distancias\n",
    "# ¡Asegúrate de quitar las comas!\n",
    "\n",
    "\n",
    "tierra= 149597870\n",
    "jupiter= 778547200"
   ]
  },
  {
   "cell_type": "markdown",
   "metadata": {},
   "source": [
    "Con los valores obtenidos, es el momento de añadir el código para realizar la operación. Restarás el primer planeta del segundo para determinar la distancia en kilómetros. A continuación, puedes convertir la distancia del kilómetro en millas multiplicándola por 0.621."
   ]
  },
  {
   "cell_type": "code",
   "execution_count": 14,
   "metadata": {},
   "outputs": [
    {
     "name": "stdout",
     "output_type": "stream",
     "text": [
      "Este es el valor absoluto 628949330\n",
      "Esta es la distancia entre los dos planetas 39057754\n"
     ]
    }
   ],
   "source": [
    "# Calcular la distancia entre planetas\n",
    "from math import ceil\n",
    "tierra= 149597870\n",
    "jupiter= 778547200\n",
    "resultado=(abs(tierra-jupiter))\n",
    "print('Este es el valor absoluto',resultado)\n",
    "print('Esta es la distancia entre los dos planetas',ceil(resultado*.0621))"
   ]
  },
  {
   "cell_type": "markdown",
   "metadata": {},
   "source": [
    "Ejercicio 2: convierte cadenas en números y usa valores absolutos"
   ]
  },
  {
   "cell_type": "markdown",
   "metadata": {},
   "source": [
    "Para crear nuestra aplicación, queremos leer la distancia del sol para dos planetas, y luego mostrar la distancia entre los planetas. Haremos esto usando input para leer los valores, int para convertir a entero y luego abs para convertir el resultado en su valor absoluto."
   ]
  },
  {
   "cell_type": "code",
   "execution_count": 16,
   "metadata": {},
   "outputs": [
    {
     "name": "stdout",
     "output_type": "stream",
     "text": [
      "Este es el valor absoluto 1325300000\n",
      "Esta es la distancia entre los dos planetas 82301130\n"
     ]
    }
   ],
   "source": [
    "from math import ceil\n",
    "# Almacenar las entradas del usuario\n",
    "planeta1= input('Introduzca la distancia del sol para el planeta 1')\n",
    "planeta2= input('Introduzca la distancia del sol para el planeta 2')\n",
    "\n",
    "# Convierte las cadenas de ambos planetas a números enteros\n",
    "\n",
    "\n",
    "planeta1= int(planeta1)\n",
    "planeta2= int(planeta2)\n",
    "\n",
    "# Realizar el cálculo y determinar el valor absoluto\n",
    "\n",
    "distancia = (abs(planeta2 - planeta1))\n",
    "print('Este es el valor absoluto',distancia)\n",
    "\n",
    "\n",
    "# Convertir de KM a Millas\n",
    "\n",
    "print('Esta es la distancia entre los dos planetas',ceil(distancia*.0621))\n",
    "\n",
    "#vamos a tomar como ejemplo el planeta venus y el planeta saturno\n",
    "\n",
    "\n",
    "\n",
    "\n"
   ]
  },
  {
   "cell_type": "markdown",
   "metadata": {},
   "source": [
    "Ejemplo con estas distancias \n",
    "\n",
    "| planeta | Distancia al sol |\n",
    "| ----------- | ----------- |\n",
    "| Mercurio | 57900000 |\n",
    "| Venus |108200000  |\n",
    "| Tierra | 149600000 |\n",
    "| Marte |227900000 |\n",
    "| Jupiter| 778600000 |\n",
    "| Saturno |1433500000  |\n",
    "| Urano | 2872500000 |\n",
    "| Neptuno|4495100000 |\n",
    "\n",
    "\n"
   ]
  },
  {
   "cell_type": "code",
   "execution_count": 15,
   "metadata": {},
   "outputs": [
    {
     "name": "stdout",
     "output_type": "stream",
     "text": [
      "Este es el valor absoluto 1325300000\n",
      "Esta es la distancia entre los dos planetas 82301130\n"
     ]
    }
   ],
   "source": [
    "# Calcular la distancia entre planetas\n",
    "from math import ceil\n",
    "venus= 108200000\n",
    "saturno= 1433500000\n",
    "resultado=(abs(venus-saturno))\n",
    "print('Este es el valor absoluto',resultado)\n",
    "print('Esta es la distancia entre los dos planetas',ceil(resultado*.0621))"
   ]
  }
 ],
 "metadata": {
  "interpreter": {
   "hash": "390fd7e4b6cad2ce8cef079eff5b9347a37acbc45e0ffef695e316a2feeb1d0c"
  },
  "kernelspec": {
   "display_name": "Python 3.9.10 64-bit",
   "language": "python",
   "name": "python3"
  },
  "language_info": {
   "codemirror_mode": {
    "name": "ipython",
    "version": 3
   },
   "file_extension": ".py",
   "mimetype": "text/x-python",
   "name": "python",
   "nbconvert_exporter": "python",
   "pygments_lexer": "ipython3",
   "version": "3.9.10"
  },
  "orig_nbformat": 4
 },
 "nbformat": 4,
 "nbformat_minor": 2
}
